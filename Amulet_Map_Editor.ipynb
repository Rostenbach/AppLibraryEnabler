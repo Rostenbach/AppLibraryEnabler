{
  "nbformat": 4,
  "nbformat_minor": 0,
  "metadata": {
    "colab": {
      "provenance": [],
      "mount_file_id": "1kjc1Ylz-LGoh6fhxMoEr6032uJR53ocK",
      "authorship_tag": "ABX9TyOMnNcVh8GYjVys0hLumBrs",
      "include_colab_link": true
    },
    "kernelspec": {
      "name": "python3",
      "display_name": "Python 3"
    },
    "language_info": {
      "name": "python"
    }
  },
  "cells": [
    {
      "cell_type": "markdown",
      "metadata": {
        "id": "view-in-github",
        "colab_type": "text"
      },
      "source": [
        "<a href=\"https://colab.research.google.com/github/Rostenbach/AppLibraryEnabler/blob/master/Amulet_Map_Editor.ipynb\" target=\"_parent\"><img src=\"https://colab.research.google.com/assets/colab-badge.svg\" alt=\"Open In Colab\"/></a>"
      ]
    },
    {
      "cell_type": "code",
      "source": [
        "from google.colab import drive\n",
        "drive.mount('/gdrive')"
      ],
      "metadata": {
        "colab": {
          "base_uri": "https://localhost:8080/"
        },
        "id": "tV2--pnPPy5n",
        "outputId": "ac840d18-b705-416c-e9dc-438b35fc742e"
      },
      "execution_count": null,
      "outputs": [
        {
          "output_type": "stream",
          "name": "stdout",
          "text": [
            "Mounted at /gdrive\n"
          ]
        }
      ]
    },
    {
      "cell_type": "code",
      "execution_count": null,
      "metadata": {
        "colab": {
          "base_uri": "https://localhost:8080/"
        },
        "id": "tKM6BpZhPehW",
        "outputId": "5925a35e-0d82-4980-c3e8-5ef6586c8fe1"
      },
      "outputs": [
        {
          "output_type": "stream",
          "name": "stdout",
          "text": [
            "Cloning into 'Amulet-Map-Editor'...\n",
            "remote: Enumerating objects: 18196, done.\u001b[K\n",
            "remote: Counting objects: 100% (366/366), done.\u001b[K\n",
            "remote: Compressing objects: 100% (194/194), done.\u001b[K\n",
            "remote: Total 18196 (delta 197), reused 321 (delta 171), pack-reused 17830\u001b[K\n",
            "Receiving objects: 100% (18196/18196), 6.95 MiB | 8.41 MiB/s, done.\n",
            "Resolving deltas: 100% (12810/12810), done.\n"
          ]
        }
      ],
      "source": [
        "#with open(/gdrive/minecraft/\n",
        "          \n",
        "!git clone https://github.com/Amulet-Team/Amulet-Map-Editor.git"
      ]
    },
    {
      "cell_type": "code",
      "source": [
        "!pip install amulet-map-editor"
      ],
      "metadata": {
        "colab": {
          "base_uri": "https://localhost:8080/"
        },
        "id": "E0EYMvIAQgmM",
        "outputId": "a3438806-4487-4391-a572-20828616f328"
      },
      "execution_count": null,
      "outputs": [
        {
          "output_type": "stream",
          "name": "stdout",
          "text": [
            "Looking in indexes: https://pypi.org/simple, https://us-python.pkg.dev/colab-wheels/public/simple/\n",
            "Collecting amulet-map-editor\n",
            "  Downloading amulet-map-editor-0.10.9.tar.gz (1.8 MB)\n",
            "\u001b[2K     \u001b[90m━━━━━━━━━━━━━━━━━━━━━━━━━━━━━━━━━━━━━━━━\u001b[0m \u001b[32m1.8/1.8 MB\u001b[0m \u001b[31m22.8 MB/s\u001b[0m eta \u001b[36m0:00:00\u001b[0m\n",
            "\u001b[?25h  Installing build dependencies ... \u001b[?25l\u001b[?25hdone\n",
            "  Getting requirements to build wheel ... \u001b[?25l\u001b[?25hdone\n",
            "  Preparing metadata (pyproject.toml) ... \u001b[?25l\u001b[?25hdone\n",
            "Collecting amulet-nbt~=2.0\n",
            "  Downloading amulet-nbt-2.0.5.tar.gz (1.3 MB)\n",
            "\u001b[2K     \u001b[90m━━━━━━━━━━━━━━━━━━━━━━━━━━━━━━━━━━━━━━━━\u001b[0m \u001b[32m1.3/1.3 MB\u001b[0m \u001b[31m62.4 MB/s\u001b[0m eta \u001b[36m0:00:00\u001b[0m\n",
            "\u001b[?25h  Installing build dependencies ... \u001b[?25l\u001b[?25hdone\n",
            "  Getting requirements to build wheel ... \u001b[?25l\u001b[?25hdone\n",
            "  Preparing metadata (pyproject.toml) ... \u001b[?25l\u001b[?25hdone\n",
            "Requirement already satisfied: pyopengl~=3.0 in /usr/local/lib/python3.9/dist-packages (from amulet-map-editor) (3.1.6)\n",
            "Collecting pyopengl-accelerate~=3.0\n",
            "  Downloading PyOpenGL-accelerate-3.1.6.tar.gz (550 kB)\n",
            "\u001b[2K     \u001b[90m━━━━━━━━━━━━━━━━━━━━━━━━━━━━━━━━━━━━━━\u001b[0m \u001b[32m550.6/550.6 KB\u001b[0m \u001b[31m52.7 MB/s\u001b[0m eta \u001b[36m0:00:00\u001b[0m\n",
            "\u001b[?25h  Preparing metadata (setup.py) ... \u001b[?25l\u001b[?25hdone\n",
            "Requirement already satisfied: packaging in /usr/local/lib/python3.9/dist-packages (from amulet-map-editor) (23.0)\n",
            "Collecting pymctranslate~=1.2\n",
            "  Downloading PyMCTranslate-1.2.9-py3-none-any.whl (752 kB)\n",
            "\u001b[2K     \u001b[90m━━━━━━━━━━━━━━━━━━━━━━━━━━━━━━━━━━━━━━\u001b[0m \u001b[32m752.1/752.1 KB\u001b[0m \u001b[31m57.7 MB/s\u001b[0m eta \u001b[36m0:00:00\u001b[0m\n",
            "\u001b[?25hCollecting amulet-core~=1.9\n",
            "  Downloading amulet_core-1.9.12-py3-none-any.whl (272 kB)\n",
            "\u001b[2K     \u001b[90m━━━━━━━━━━━━━━━━━━━━━━━━━━━━━━━━━━━━━━\u001b[0m \u001b[32m272.2/272.2 KB\u001b[0m \u001b[31m34.6 MB/s\u001b[0m eta \u001b[36m0:00:00\u001b[0m\n",
            "\u001b[?25hCollecting wxPython==4.1.1\n",
            "  Downloading wxPython-4.1.1.tar.gz (66.0 MB)\n",
            "\u001b[2K     \u001b[90m━━━━━━━━━━━━━━━━━━━━━━━━━━━━━━━━━━━━━━━━\u001b[0m \u001b[32m66.0/66.0 MB\u001b[0m \u001b[31m13.6 MB/s\u001b[0m eta \u001b[36m0:00:00\u001b[0m\n",
            "\u001b[?25h  Preparing metadata (setup.py) ... \u001b[?25l\u001b[?25hdone\n",
            "Collecting minecraft-resource-pack~=1.3\n",
            "  Downloading minecraft_resource_pack-1.3.3-py3-none-any.whl (452 kB)\n",
            "\u001b[2K     \u001b[90m━━━━━━━━━━━━━━━━━━━━━━━━━━━━━━━━━━━━━━\u001b[0m \u001b[32m452.2/452.2 KB\u001b[0m \u001b[31m45.8 MB/s\u001b[0m eta \u001b[36m0:00:00\u001b[0m\n",
            "\u001b[?25hRequirement already satisfied: numpy~=1.17 in /usr/local/lib/python3.9/dist-packages (from amulet-map-editor) (1.22.4)\n",
            "Requirement already satisfied: pillow in /usr/local/lib/python3.9/dist-packages (from wxPython==4.1.1->amulet-map-editor) (8.4.0)\n",
            "Requirement already satisfied: six in /usr/local/lib/python3.9/dist-packages (from wxPython==4.1.1->amulet-map-editor) (1.16.0)\n",
            "Collecting portalocker~=2.4\n",
            "  Downloading portalocker-2.7.0-py2.py3-none-any.whl (15 kB)\n",
            "Collecting amulet-leveldb~=1.0b0\n",
            "  Downloading amulet-leveldb-1.0.0b5.tar.gz (749 kB)\n",
            "\u001b[2K     \u001b[90m━━━━━━━━━━━━━━━━━━━━━━━━━━━━━━━━━━━━━━\u001b[0m \u001b[32m749.2/749.2 KB\u001b[0m \u001b[31m63.8 MB/s\u001b[0m eta \u001b[36m0:00:00\u001b[0m\n",
            "\u001b[?25h  Installing build dependencies ... \u001b[?25l\u001b[?25hdone\n",
            "  Getting requirements to build wheel ... \u001b[?25l\u001b[?25hdone\n",
            "  Preparing metadata (pyproject.toml) ... \u001b[?25l\u001b[?25hdone\n",
            "Collecting mutf8~=1.0\n",
            "  Downloading mutf8-1.0.6-cp39-cp39-manylinux_2_5_x86_64.manylinux1_x86_64.manylinux_2_17_x86_64.manylinux2014_x86_64.whl (18 kB)\n",
            "Building wheels for collected packages: amulet-map-editor, wxPython, amulet-nbt, pyopengl-accelerate, amulet-leveldb\n",
            "  Building wheel for amulet-map-editor (pyproject.toml) ... \u001b[?25l\u001b[?25hdone\n",
            "  Created wheel for amulet-map-editor: filename=amulet_map_editor-0.10.9-cp39-cp39-linux_x86_64.whl size=2414956 sha256=7b456be53c914da9334ec0eba66feef9212d713d176c11e9b5f377504377a260\n",
            "  Stored in directory: /root/.cache/pip/wheels/bf/5b/60/1c54a99d6698d74a753847ef89a13fe78ce9fa83b713091842\n",
            "  \u001b[1;31merror\u001b[0m: \u001b[1msubprocess-exited-with-error\u001b[0m\n",
            "  \n",
            "  \u001b[31m×\u001b[0m \u001b[32mpython setup.py bdist_wheel\u001b[0m did not run successfully.\n",
            "  \u001b[31m│\u001b[0m exit code: \u001b[1;36m1\u001b[0m\n",
            "  \u001b[31m╰─>\u001b[0m See above for output.\n",
            "  \n",
            "  \u001b[1;35mnote\u001b[0m: This error originates from a subprocess, and is likely not a problem with pip.\n",
            "  Building wheel for wxPython (setup.py) ... \u001b[?25lerror\n",
            "\u001b[31m  ERROR: Failed building wheel for wxPython\u001b[0m\u001b[31m\n",
            "\u001b[0m\u001b[?25h  Running setup.py clean for wxPython\n",
            "  Building wheel for amulet-nbt (pyproject.toml) ... \u001b[?25l\u001b[?25hdone\n",
            "  Created wheel for amulet-nbt: filename=amulet_nbt-2.0.5-cp39-cp39-linux_x86_64.whl size=4602502 sha256=505d79e77dcc77401959c13334d3d7daa42fc38d19b2e5f545a8b1b34433c003\n",
            "  Stored in directory: /root/.cache/pip/wheels/91/cc/40/3d76e68243b24d3f4c962f1e9f4e0c67613485bf256da7ee83\n",
            "  Building wheel for pyopengl-accelerate (setup.py) ... \u001b[?25l\u001b[?25hdone\n",
            "  Created wheel for pyopengl-accelerate: filename=PyOpenGL_accelerate-3.1.6-cp39-cp39-linux_x86_64.whl size=2375470 sha256=fe8eb3fb945e0b9d42ab85520fabc40347067fe88f80da7e54d01794ba8714a9\n",
            "  Stored in directory: /root/.cache/pip/wheels/60/39/44/6baa68d264bdf2622d0cfa27342721d71601ba15977a6173fd\n",
            "  Building wheel for amulet-leveldb (pyproject.toml) ... \u001b[?25l\u001b[?25hdone\n",
            "  Created wheel for amulet-leveldb: filename=amulet_leveldb-1.0.0b5-cp39-cp39-linux_x86_64.whl size=2902733 sha256=cec630f6313ef265af3c33887f173b2d37eb75e2190a0b81182a37cca83d420d\n",
            "  Stored in directory: /root/.cache/pip/wheels/b2/ed/b5/29d88e7f0e45a52f335cab578aa27da78e4e4e6de48d31f847\n",
            "Successfully built amulet-map-editor amulet-nbt pyopengl-accelerate amulet-leveldb\n",
            "Failed to build wxPython\n",
            "Installing collected packages: pyopengl-accelerate, mutf8, wxPython, portalocker, amulet-nbt, amulet-leveldb, pymctranslate, minecraft-resource-pack, amulet-core, amulet-map-editor\n",
            "  \u001b[1;31merror\u001b[0m: \u001b[1msubprocess-exited-with-error\u001b[0m\n",
            "  \n",
            "  \u001b[31m×\u001b[0m \u001b[32mRunning setup.py install for wxPython\u001b[0m did not run successfully.\n",
            "  \u001b[31m│\u001b[0m exit code: \u001b[1;36m1\u001b[0m\n",
            "  \u001b[31m╰─>\u001b[0m See above for output.\n",
            "  \n",
            "  \u001b[1;35mnote\u001b[0m: This error originates from a subprocess, and is likely not a problem with pip.\n",
            "  Running setup.py install for wxPython ... \u001b[?25l\u001b[?25herror\n",
            "\u001b[1;31merror\u001b[0m: \u001b[1mlegacy-install-failure\u001b[0m\n",
            "\n",
            "\u001b[31m×\u001b[0m Encountered error while trying to install package.\n",
            "\u001b[31m╰─>\u001b[0m wxPython\n",
            "\n",
            "\u001b[1;35mnote\u001b[0m: This is an issue with the package mentioned above, not pip.\n",
            "\u001b[1;36mhint\u001b[0m: See above for output from the failure.\n"
          ]
        }
      ]
    },
    {
      "cell_type": "code",
      "source": [
        "!pip3 install -U wxPython"
      ],
      "metadata": {
        "colab": {
          "base_uri": "https://localhost:8080/"
        },
        "id": "G2jk3o5ERzdN",
        "outputId": "9b33cd15-0da7-49cd-9160-cd063dee52ed"
      },
      "execution_count": null,
      "outputs": [
        {
          "output_type": "stream",
          "name": "stdout",
          "text": [
            "Looking in indexes: https://pypi.org/simple, https://us-python.pkg.dev/colab-wheels/public/simple/\n",
            "Collecting wxPython\n",
            "  Using cached wxPython-4.2.0.tar.gz (71.0 MB)\n",
            "  \u001b[1;31merror\u001b[0m: \u001b[1msubprocess-exited-with-error\u001b[0m\n",
            "  \n",
            "  \u001b[31m×\u001b[0m \u001b[32mpython setup.py egg_info\u001b[0m did not run successfully.\n",
            "  \u001b[31m│\u001b[0m exit code: \u001b[1;36m1\u001b[0m\n",
            "  \u001b[31m╰─>\u001b[0m See above for output.\n",
            "  \n",
            "  \u001b[1;35mnote\u001b[0m: This error originates from a subprocess, and is likely not a problem with pip.\n",
            "  Preparing metadata (setup.py) ... \u001b[?25l\u001b[?25herror\n",
            "\u001b[1;31merror\u001b[0m: \u001b[1mmetadata-generation-failed\u001b[0m\n",
            "\n",
            "\u001b[31m×\u001b[0m Encountered error while generating package metadata.\n",
            "\u001b[31m╰─>\u001b[0m See above for output.\n",
            "\n",
            "\u001b[1;35mnote\u001b[0m: This is an issue with the package mentioned above, not pip.\n",
            "\u001b[1;36mhint\u001b[0m: See above for details.\n"
          ]
        }
      ]
    },
    {
      "cell_type": "code",
      "source": [
        "#conda install -c conda-forge wxpython\n",
        "#!sudo apt-get install -y libgtk-3-dev libjpeg-dev libtiff-dev libglib2.0-dev libxpm-dev libgtk2.0-dev libgtk-3-dev libwebkitgtk-dev libwebkitgtk-3.0-dev libgstreamer-plugins-base0.10-dev\n",
        "#!pip install -U wxPython\n",
        "!sudo apt-get install -y libgtk-3-dev libjpeg-dev libtiff-dev libglib2.0-dev libxpm-dev libgtk2.0-dev libgtk-3-dev libwebkitgtk-dev libwebkitgtk-3.0-dev libgstreamer-plugins-base0.10-dev\n",
        "!wget https://files.pythonhosted.org/packages/3e/4f/7d3c7d7d7d7d7d7d7d7d7d7d7d7d7d7d7d7d7d7d7d7d7d7d7d7d7d7d7d7/wxPython-4.1.1.tar.gz"
      ],
      "metadata": {
        "colab": {
          "base_uri": "https://localhost:8080/"
        },
        "id": "LyD3awihSWyj",
        "outputId": "32b9a1f4-cacc-4ac1-905a-d4996793f2cb"
      },
      "execution_count": null,
      "outputs": [
        {
          "output_type": "stream",
          "name": "stdout",
          "text": [
            "Reading package lists... Done\n",
            "Building dependency tree       \n",
            "Reading state information... Done\n",
            "E: Unable to locate package libwebkitgtk-dev\n",
            "E: Unable to locate package libwebkitgtk-3.0-dev\n",
            "E: Couldn't find any package by glob 'libwebkitgtk-3.0-dev'\n",
            "E: Couldn't find any package by regex 'libwebkitgtk-3.0-dev'\n",
            "E: Unable to locate package libgstreamer-plugins-base0.10-dev\n",
            "E: Couldn't find any package by glob 'libgstreamer-plugins-base0.10-dev'\n",
            "E: Couldn't find any package by regex 'libgstreamer-plugins-base0.10-dev'\n",
            "--2023-03-31 15:32:39--  https://files.pythonhosted.org/packages/3e/4f/7d3c7d7d7d7d7d7d7d7d7d7d7d7d7d7d7d7d7d7d7d7d7d7d7d7d7d7d7d7/wxPython-4.1.1.tar.gz\n",
            "Resolving files.pythonhosted.org (files.pythonhosted.org)... 151.101.1.63, 151.101.65.63, 151.101.129.63, ...\n",
            "Connecting to files.pythonhosted.org (files.pythonhosted.org)|151.101.1.63|:443... connected.\n",
            "HTTP request sent, awaiting response... 404 Not Found\n",
            "2023-03-31 15:32:40 ERROR 404: Not Found.\n",
            "\n"
          ]
        }
      ]
    },
    {
      "cell_type": "code",
      "source": [
        "!git clone https://github.com/gentlegiantJGC/Minecraft-Model-Reader.git"
      ],
      "metadata": {
        "colab": {
          "base_uri": "https://localhost:8080/"
        },
        "id": "PjVpukOCTQs1",
        "outputId": "aac2d7fd-6caa-4750-a917-3511a8a5d554"
      },
      "execution_count": null,
      "outputs": [
        {
          "output_type": "stream",
          "name": "stdout",
          "text": [
            "Cloning into 'Minecraft-Model-Reader'...\n",
            "remote: Enumerating objects: 2449, done.\u001b[K\n",
            "remote: Counting objects: 100% (219/219), done.\u001b[K\n",
            "remote: Compressing objects: 100% (94/94), done.\u001b[K\n",
            "remote: Total 2449 (delta 126), reused 195 (delta 119), pack-reused 2230\u001b[K\n",
            "Receiving objects: 100% (2449/2449), 664.10 KiB | 5.93 MiB/s, done.\n",
            "Resolving deltas: 100% (1582/1582), done.\n"
          ]
        }
      ]
    },
    {
      "cell_type": "code",
      "source": [
        "!python -m /content/Minecraft-Model-Reader"
      ],
      "metadata": {
        "colab": {
          "base_uri": "https://localhost:8080/"
        },
        "id": "14sBgI_rTdXE",
        "outputId": "73adc422-438d-47f6-8b2e-01b93f0bc1b7"
      },
      "execution_count": null,
      "outputs": [
        {
          "output_type": "stream",
          "name": "stdout",
          "text": [
            "/usr/bin/python3: No module named /content/Minecraft-Model-Reader\n"
          ]
        }
      ]
    }
  ]
}